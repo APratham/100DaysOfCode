{
 "cells": [
  {
   "cell_type": "markdown",
   "metadata": {
    "colab_type": "text",
    "id": "cRchcRLALGH-"
   },
   "source": [
    "# Naive Bayes Classifier"
   ]
  },
  {
   "cell_type": "markdown",
   "metadata": {
    "colab_type": "text",
    "id": "PBTlqy5GLGIL"
   },
   "source": [
    "## Defining the Dataset"
   ]
  },
  {
   "cell_type": "markdown",
   "metadata": {
    "colab_type": "text",
    "id": "DIYTqte-LGIP"
   },
   "source": [
    "We are training the model using a dummy dataset with the weather and temperature as two features and a label"
   ]
  },
  {
   "cell_type": "code",
   "execution_count": 1,
   "metadata": {
    "colab": {},
    "colab_type": "code",
    "id": "UPr0boemLGIT"
   },
   "outputs": [],
   "source": [
    "#Assigning features and a label\n",
    "\n",
    "weather=['Sunny','Sunny','Overcast','Rainy','Rainy','Rainy','Overcast','Sunny','Sunny',\n",
    "'Rainy','Sunny','Overcast','Overcast','Rainy']\n",
    "temp=['Hot','Hot','Hot','Mild','Cool','Cool','Cool','Mild','Cool','Mild','Mild','Mild','Hot','Mild']\n",
    "\n",
    "play=['No','No','Yes','Yes','Yes','No','Yes','No','Yes','Yes','Yes','Yes','Yes','No']"
   ]
  },
  {
   "cell_type": "markdown",
   "metadata": {
    "colab_type": "text",
    "id": "1eofRukJLGIh"
   },
   "source": [
    "## Encoding features"
   ]
  },
  {
   "cell_type": "code",
   "execution_count": 2,
   "metadata": {
    "colab": {
     "base_uri": "https://localhost:8080/",
     "height": 34
    },
    "colab_type": "code",
    "executionInfo": {
     "elapsed": 3986,
     "status": "ok",
     "timestamp": 1577883444910,
     "user": {
      "displayName": "Akansha Kumari",
      "photoUrl": "https://lh3.googleusercontent.com/a-/AAuE7mCGoIlIPptyNnkA0D-MCWREQIKi1iyIK4ulJhLHCtY=s64",
      "userId": "02083222005070474830"
     },
     "user_tz": -330
    },
    "id": "DXzO7l-3LGIo",
    "outputId": "2b211f95-f466-428a-9a01-8e4d61efa694"
   },
   "outputs": [
    {
     "name": "stdout",
     "output_type": "stream",
     "text": [
      "Weather: [2 2 0 1 1 1 0 2 2 1 2 0 0 1]\n"
     ]
    }
   ],
   "source": [
    "# Import LabelEncoder\n",
    "from sklearn import preprocessing\n",
    "#creating labelEncoder\n",
    "le = preprocessing.LabelEncoder()\n",
    "# Converting string labels into numbers.\n",
    "weather_encoded=le.fit_transform(weather)\n",
    "print (\"Weather:\",weather_encoded)"
   ]
  },
  {
   "cell_type": "markdown",
   "metadata": {
    "colab_type": "text",
    "id": "Pwl9JGpmLGI1"
   },
   "source": [
    "Similarly for the temp and play columns"
   ]
  },
  {
   "cell_type": "code",
   "execution_count": 4,
   "metadata": {
    "colab": {
     "base_uri": "https://localhost:8080/",
     "height": 51
    },
    "colab_type": "code",
    "executionInfo": {
     "elapsed": 2177,
     "status": "ok",
     "timestamp": 1577883453018,
     "user": {
      "displayName": "Akansha Kumari",
      "photoUrl": "https://lh3.googleusercontent.com/a-/AAuE7mCGoIlIPptyNnkA0D-MCWREQIKi1iyIK4ulJhLHCtY=s64",
      "userId": "02083222005070474830"
     },
     "user_tz": -330
    },
    "id": "QSu-H2nkLGI4",
    "outputId": "559ad33d-7ad4-440d-f7c3-a88f97f0af8b"
   },
   "outputs": [
    {
     "name": "stdout",
     "output_type": "stream",
     "text": [
      "Temp: [1 1 1 2 0 0 0 2 0 2 2 2 1 2]\n",
      "Play: [0 0 1 1 1 0 1 0 1 1 1 1 1 0]\n"
     ]
    }
   ],
   "source": [
    "# Converting string labels into numbers\n",
    "temp_encoded=le.fit_transform(temp)\n",
    "label=le.fit_transform(play)\n",
    "print (\"Temp:\",temp_encoded)\n",
    "print (\"Play:\",label)"
   ]
  },
  {
   "cell_type": "markdown",
   "metadata": {
    "colab_type": "text",
    "id": "Pl8Px_IdLGJB"
   },
   "source": [
    "Now combine both the features as tuples and print them as a list"
   ]
  },
  {
   "cell_type": "code",
   "execution_count": 5,
   "metadata": {
    "colab": {
     "base_uri": "https://localhost:8080/",
     "height": 34
    },
    "colab_type": "code",
    "executionInfo": {
     "elapsed": 916,
     "status": "ok",
     "timestamp": 1577883671447,
     "user": {
      "displayName": "Akansha Kumari",
      "photoUrl": "https://lh3.googleusercontent.com/a-/AAuE7mCGoIlIPptyNnkA0D-MCWREQIKi1iyIK4ulJhLHCtY=s64",
      "userId": "02083222005070474830"
     },
     "user_tz": -330
    },
    "id": "WG0M6vdnLGJD",
    "outputId": "c56a837a-73f0-4aa6-943a-1b8bbf659174"
   },
   "outputs": [
    {
     "name": "stdout",
     "output_type": "stream",
     "text": [
      "[(2, 1), (2, 1), (0, 1), (1, 2), (1, 0), (1, 0), (0, 0), (2, 2), (2, 0), (1, 2), (2, 2), (0, 2), (0, 1), (1, 2)]\n"
     ]
    }
   ],
   "source": [
    "import numpy as np\n",
    "\n",
    "#Combining weather and temp into single list of tuples\n",
    "features = list(zip(weather_encoded,temp_encoded))\n",
    "#features = np.array(features).reshape(-1, 1)\n",
    "print (features)"
   ]
  },
  {
   "cell_type": "markdown",
   "metadata": {
    "colab_type": "text",
    "id": "CErL4erXLGJL"
   },
   "source": [
    "## Generating Naive Bayes Classifier Model"
   ]
  },
  {
   "cell_type": "code",
   "execution_count": 6,
   "metadata": {
    "colab": {
     "base_uri": "https://localhost:8080/",
     "height": 34
    },
    "colab_type": "code",
    "executionInfo": {
     "elapsed": 902,
     "status": "ok",
     "timestamp": 1577883722349,
     "user": {
      "displayName": "Akansha Kumari",
      "photoUrl": "https://lh3.googleusercontent.com/a-/AAuE7mCGoIlIPptyNnkA0D-MCWREQIKi1iyIK4ulJhLHCtY=s64",
      "userId": "02083222005070474830"
     },
     "user_tz": -330
    },
    "id": "GylgBBIALGJN",
    "outputId": "ccd61a73-0289-4344-978a-0f26a72da34d"
   },
   "outputs": [
    {
     "name": "stdout",
     "output_type": "stream",
     "text": [
      "Predicted Value: [1]\n"
     ]
    }
   ],
   "source": [
    "#Import Gaussian Naive Bayes model\n",
    "from sklearn.naive_bayes import GaussianNB\n",
    "\n",
    "#Create a Gaussian Classifier\n",
    "model = GaussianNB()\n",
    "\n",
    "# Train the model using the training sets\n",
    "model.fit(features,label)\n",
    "\n",
    "#Predict Output\n",
    "predicted= model.predict([[0,2]]) # 0:Overcast, 2:Mild\n",
    "print (\"Predicted Value:\", predicted)"
   ]
  },
  {
   "cell_type": "code",
   "execution_count": 0,
   "metadata": {
    "colab": {},
    "colab_type": "code",
    "id": "h553OuzLLGJS"
   },
   "outputs": [],
   "source": []
  }
 ],
 "metadata": {
  "colab": {
   "name": "Naive Bayes Scikit Learn.ipynb",
   "provenance": []
  },
  "kernelspec": {
   "display_name": "Python 3",
   "language": "python",
   "name": "python3"
  },
  "language_info": {
   "codemirror_mode": {
    "name": "ipython",
    "version": 3
   },
   "file_extension": ".py",
   "mimetype": "text/x-python",
   "name": "python",
   "nbconvert_exporter": "python",
   "pygments_lexer": "ipython3",
   "version": "3.7.6"
  }
 },
 "nbformat": 4,
 "nbformat_minor": 1
}
